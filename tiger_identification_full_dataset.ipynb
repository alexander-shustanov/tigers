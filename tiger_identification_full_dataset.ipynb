{
 "cells": [
  {
   "cell_type": "markdown",
   "id": "67aa6b1b",
   "metadata": {},
   "source": [
    "### Идентификация особи\n",
    "\n",
    "Данный ноутбук представляет обучение модели идентификации произвольной особи тигра. Несмотря на то, что по условию необходимо идентифицировать именно Принцессу, мы понимаем, что задача стоит более широкая. Поэтому мы предлагаем следующий подход, с помощью которого можно идентифицировать произвольную особь без дообучения модели."
   ]
  },
  {
   "cell_type": "markdown",
   "id": "cafb695d",
   "metadata": {},
   "source": [
    "### Входные данные\n",
    "\n",
    "На входе мы имеем две папки с фотографиями тигров полученные фотоловушками. Одна папка содержит только фотографии Принцессы, другая - все тигры вообще. Мы обнаружили, что часть фотографий Принцессы попало в папку Train_3500, и для улучшения качества идентификации, эти фотографии необходимо будет удалить."
   ]
  },
  {
   "cell_type": "markdown",
   "id": "e3252d3e",
   "metadata": {},
   "source": [
    "### Описание подхода\n",
    "\n",
    "Наш метод заключается в том, чтобы научить модель выделять из фотографии тигра определенный вектор признаков, который можно в дальнейшем сравнивать с вектором признаков других фотографий, и определять особь по близости (использую косинусное расстояние) векторов.\n",
    "\n",
    "Решение основано на модели resnet18. Как вы в дальнейшем убедитесь, этой модели с одной стороны хватит для эффективной идентификации, с другой стороны, она достаточно маленькая для помещения ее в embedded устройства.\n",
    "\n",
    "Во время обучения, для каждого батча мы получаем вектор признаков из resnet18 и строим на основе него матрицу схожести использую косинусное расстояние. Целью обучения будет максимизировать значения в ячейках (i,j), где фотографии i и j представляют собой одного и того же тигра. Мы не знаем, какие особи у нас имееются в Train_3500, но знаем, на каких фотографиях представлена Принцесса.\n",
    "\n",
    "Батч мы будем формировать следующим образом - 5 фотографий принцессы и 5 фотографий из Train_3500.\n",
    "\n",
    "На выходе мы в идеальном варианте должны получить матрицу такого вида:"
   ]
  },
  {
   "cell_type": "code",
   "execution_count": 1,
   "id": "d9888ecf",
   "metadata": {},
   "outputs": [
    {
     "data": {
      "text/plain": [
       "array([['1', '1', '1', '1', '1', '0', '0', '0', '0', '0'],\n",
       "       ['1', '1', '1', '1', '1', '0', '0', '0', '0', '0'],\n",
       "       ['1', '1', '1', '1', '1', '0', '0', '0', '0', '0'],\n",
       "       ['1', '1', '1', '1', '1', '0', '0', '0', '0', '0'],\n",
       "       ['1', '1', '1', '1', '1', '0', '0', '0', '0', '0'],\n",
       "       ['0', '0', '0', '0', '0', '1', '?', '?', '?', '?'],\n",
       "       ['0', '0', '0', '0', '0', '?', '1', '?', '?', '?'],\n",
       "       ['0', '0', '0', '0', '0', '?', '?', '1', '?', '?'],\n",
       "       ['0', '0', '0', '0', '0', '?', '?', '?', '1', '?'],\n",
       "       ['0', '0', '0', '0', '0', '?', '?', '?', '?', '1']], dtype='<U21')"
      ]
     },
     "execution_count": 1,
     "metadata": {},
     "output_type": "execute_result"
    }
   ],
   "source": [
    "import numpy as np\n",
    "\n",
    "gt_matrix = np.zeros((10, 10)).astype(int).astype(str)\n",
    "\n",
    "for i in range(10):\n",
    "    for j in range(10):\n",
    "        if i < 5 and j < 5 or i == j:\n",
    "            gt_matrix[i,j] = 1\n",
    "        elif i < 5 or j < 5:\n",
    "            gt_matrix[i,j] = 0\n",
    "        else: \n",
    "            gt_matrix[i, j] = '?'\n",
    "\n",
    "gt_matrix"
   ]
  },
  {
   "cell_type": "markdown",
   "id": "f79342f8",
   "metadata": {},
   "source": [
    "Во-первых, мы видим 1 на главной диагонали. Это логично, так как каждый семпл равен сам себе.\n",
    "Далее мы видим один блок с 1, это схожесть семплов принцессы.\n",
    "\n",
    "Блоки с нулями - это различие Принцессы от остальных тигров.\n",
    "\n",
    "И для остальных тигров по датасету мы не можем отделить одного от другого, поэтому значения там неизвестны.\n",
    "\n",
    "Для подсчета градиентов во время обучения модели мы будем использовать только часть этой матрицы. Мы откинем часть со '?' (мы не знаем, какие значения там могут быть) и главную диагональ (нет смысла считать по ней градиенты).\n",
    "\n",
    "Чтобы не считать лишних градиентов мы умножим полученную матрицу схожести на следующую маску:"
   ]
  },
  {
   "cell_type": "code",
   "execution_count": 2,
   "id": "9309c875",
   "metadata": {},
   "outputs": [
    {
     "data": {
      "text/plain": [
       "array([[0., 1., 1., 1., 1., 1., 1., 1., 1., 1.],\n",
       "       [1., 0., 1., 1., 1., 1., 1., 1., 1., 1.],\n",
       "       [1., 1., 0., 1., 1., 1., 1., 1., 1., 1.],\n",
       "       [1., 1., 1., 0., 1., 1., 1., 1., 1., 1.],\n",
       "       [1., 1., 1., 1., 0., 1., 1., 1., 1., 1.],\n",
       "       [1., 1., 1., 1., 1., 0., 0., 0., 0., 0.],\n",
       "       [1., 1., 1., 1., 1., 0., 0., 0., 0., 0.],\n",
       "       [1., 1., 1., 1., 1., 0., 0., 0., 0., 0.],\n",
       "       [1., 1., 1., 1., 1., 0., 0., 0., 0., 0.],\n",
       "       [1., 1., 1., 1., 1., 0., 0., 0., 0., 0.]])"
      ]
     },
     "execution_count": 2,
     "metadata": {},
     "output_type": "execute_result"
    }
   ],
   "source": [
    "grad_mask = np.zeros((10, 10))\n",
    "\n",
    "for i in range(10):\n",
    "    for j in range(10):\n",
    "        if i == j: continue\n",
    "        grad_mask[i,j] = (i < 5) | (j < 5)\n",
    "        \n",
    "        \n",
    "grad_mask"
   ]
  },
  {
   "cell_type": "markdown",
   "id": "842d6aa2",
   "metadata": {},
   "source": [
    "Такой подход позволит нам обучить модель, которая по фотографии тигра выделяет некоторые вектор признаков, который мало зависит от освещенности и положения тигра."
   ]
  },
  {
   "cell_type": "markdown",
   "id": "c7668c4e",
   "metadata": {},
   "source": [
    "<b>Важный момент.</b> На вход модель принимает вырезанные из фотографии участки, в которых находятся только тигр. В этом ноутбуке нет кода вырезания тигра. Код есть в общем скрипте эвалюации, для этой задачи используется предобученная нами модель yolo5s."
   ]
  },
  {
   "cell_type": "markdown",
   "id": "2c7f1014",
   "metadata": {},
   "source": [
    "Импорты"
   ]
  },
  {
   "cell_type": "code",
   "execution_count": 4,
   "id": "60c647c2",
   "metadata": {},
   "outputs": [],
   "source": [
    "import torch\n",
    "import torchvision\n",
    "\n",
    "from glob import glob\n",
    "\n",
    "from PIL import Image\n",
    "\n",
    "import pandas as pd\n",
    "\n",
    "from torchvision import transforms\n",
    "\n",
    "import numpy as np\n",
    "\n",
    "from tqdm import tqdm_notebook as tqdm\n",
    "\n",
    "import matplotlib.pyplot as plt"
   ]
  },
  {
   "cell_type": "code",
   "execution_count": 5,
   "id": "3aadd9ca",
   "metadata": {},
   "outputs": [
    {
     "name": "stderr",
     "output_type": "stream",
     "text": [
      "Using cache found in /root/.cache/torch/hub/pytorch_vision_v0.10.0\n"
     ]
    }
   ],
   "source": [
    "# Загружаем базовую модель, которую будем обучать\n",
    "\n",
    "model = torch.hub.load('pytorch/vision:v0.10.0', 'resnet18', pretrained=True)\n",
    "model = model.cuda().eval()"
   ]
  },
  {
   "cell_type": "code",
   "execution_count": 6,
   "id": "4939daf7",
   "metadata": {},
   "outputs": [],
   "source": [
    "# model.load_state_dict(torch.load('1.pt'))"
   ]
  },
  {
   "cell_type": "code",
   "execution_count": 7,
   "id": "49df62e5",
   "metadata": {},
   "outputs": [],
   "source": [
    "# Функция для расчета матрицы схожести\n",
    "\n",
    "def sim_matrix(a, b, eps=1e-8):\n",
    "    a_n, b_n = a.norm(dim=1)[:, None], b.norm(dim=1)[:, None]\n",
    "    a_norm = a / torch.max(a_n, eps * torch.ones_like(a_n))\n",
    "    b_norm = b / torch.max(b_n, eps * torch.ones_like(b_n))\n",
    "    sim_mt = torch.mm(a_norm, b_norm.transpose(0, 1))\n",
    "    return sim_mt"
   ]
  },
  {
   "cell_type": "code",
   "execution_count": 8,
   "id": "e807e7c9",
   "metadata": {},
   "outputs": [
    {
     "data": {
      "text/plain": [
       "tensor([[1.0000, 0.9908, 0.9937, 0.9936, 0.9819, 0.9920, 0.9858, 0.9894, 0.9884,\n",
       "         0.9950],\n",
       "        [0.9908, 1.0000, 0.9894, 0.9848, 0.9886, 0.9899, 0.9860, 0.9843, 0.9899,\n",
       "         0.9917],\n",
       "        [0.9937, 0.9894, 1.0000, 0.9915, 0.9886, 0.9903, 0.9871, 0.9907, 0.9921,\n",
       "         0.9933],\n",
       "        [0.9936, 0.9848, 0.9915, 1.0000, 0.9786, 0.9923, 0.9884, 0.9936, 0.9880,\n",
       "         0.9907],\n",
       "        [0.9819, 0.9886, 0.9886, 0.9786, 1.0000, 0.9864, 0.9826, 0.9783, 0.9858,\n",
       "         0.9834],\n",
       "        [0.9920, 0.9899, 0.9903, 0.9923, 0.9864, 1.0000, 0.9885, 0.9922, 0.9877,\n",
       "         0.9930],\n",
       "        [0.9858, 0.9860, 0.9871, 0.9884, 0.9826, 0.9885, 1.0000, 0.9880, 0.9903,\n",
       "         0.9845],\n",
       "        [0.9894, 0.9843, 0.9907, 0.9936, 0.9783, 0.9922, 0.9880, 1.0000, 0.9848,\n",
       "         0.9893],\n",
       "        [0.9884, 0.9899, 0.9921, 0.9880, 0.9858, 0.9877, 0.9903, 0.9848, 1.0000,\n",
       "         0.9894],\n",
       "        [0.9950, 0.9917, 0.9933, 0.9907, 0.9834, 0.9930, 0.9845, 0.9893, 0.9894,\n",
       "         1.0000]], device='cuda:0', grad_fn=<MmBackward0>)"
      ]
     },
     "execution_count": 8,
     "metadata": {},
     "output_type": "execute_result"
    }
   ],
   "source": [
    "# sanity check\n",
    "\n",
    "result = model(torch.rand((10, 3, 224, 224)).cuda())\n",
    "\n",
    "sim_matrix(result, result)"
   ]
  },
  {
   "cell_type": "markdown",
   "id": "d666bde7",
   "metadata": {},
   "source": [
    "Грузим датасет"
   ]
  },
  {
   "cell_type": "code",
   "execution_count": 9,
   "id": "7469ee72",
   "metadata": {},
   "outputs": [],
   "source": [
    "dataset_files = glob('TigerTrain/*.jpg') + glob('TigerPrincess/*.jpg')"
   ]
  },
  {
   "cell_type": "code",
   "execution_count": 13,
   "id": "be931451",
   "metadata": {},
   "outputs": [],
   "source": [
    "df = pd.DataFrame({'path': dataset_files})"
   ]
  },
  {
   "cell_type": "code",
   "execution_count": 14,
   "id": "d29eb528",
   "metadata": {},
   "outputs": [],
   "source": [
    "# df['train'] = df.path.str.contains('train')\n",
    "df['princess'] = df.path.str.contains('Princess')"
   ]
  },
  {
   "cell_type": "markdown",
   "id": "99de850f",
   "metadata": {},
   "source": [
    "Удаляем фотографии принцессы из списка остальных тигров"
   ]
  },
  {
   "cell_type": "code",
   "execution_count": 16,
   "id": "1a78337c",
   "metadata": {},
   "outputs": [],
   "source": [
    "princess_in_all_tigers = pd.read_csv('princess_in_all_tigers.csv')"
   ]
  },
  {
   "cell_type": "code",
   "execution_count": 17,
   "id": "dbf0727e",
   "metadata": {},
   "outputs": [],
   "source": [
    "princess_images = princess_in_all_tigers['0'].str.split('/').str[-1]"
   ]
  },
  {
   "cell_type": "code",
   "execution_count": 18,
   "id": "c65bacaa",
   "metadata": {},
   "outputs": [
    {
     "data": {
      "text/plain": [
       "39"
      ]
     },
     "execution_count": 18,
     "metadata": {},
     "output_type": "execute_result"
    }
   ],
   "source": [
    "df.path.str.split('/').str[-1].isin(princess_images).sum()"
   ]
  },
  {
   "cell_type": "code",
   "execution_count": 19,
   "id": "26d0e7c4",
   "metadata": {},
   "outputs": [],
   "source": [
    "df = df[~ df.path.str.split('/').str[-1].isin(princess_images)]"
   ]
  },
  {
   "cell_type": "markdown",
   "id": "9000a20e",
   "metadata": {},
   "source": [
    "Разделяем датасет на train и val"
   ]
  },
  {
   "cell_type": "code",
   "execution_count": 20,
   "id": "2909fec9",
   "metadata": {},
   "outputs": [],
   "source": [
    "from sklearn.model_selection import train_test_split"
   ]
  },
  {
   "cell_type": "code",
   "execution_count": 21,
   "id": "614185e4",
   "metadata": {},
   "outputs": [],
   "source": [
    "train_df, test_df = train_test_split(df, stratify=df.princess, test_size=0.15)"
   ]
  },
  {
   "cell_type": "code",
   "execution_count": 22,
   "id": "85c37e75",
   "metadata": {},
   "outputs": [],
   "source": [
    "# Во время обучения кроме стандартного препроцессинга будем делать аугментацию, для предотвращения переобучения\n",
    "train_preprocess = transforms.Compose([\n",
    "    transforms.RandomResizedCrop(224),\n",
    "    transforms.RandomHorizontalFlip(), # Случайно зеркалим фотографию\n",
    "    transforms.RandomGrayscale(), # Случайно переводим в grayscale (с вероятностью 0.1)\n",
    "    transforms.ToTensor(),\n",
    "    transforms.Normalize(mean=[0.485, 0.456, 0.406], std=[0.229, 0.224, 0.225])\n",
    "])\n",
    "\n",
    "# Во время валидации смысла в аугментации нет\n",
    "test_preprocess = transforms.Compose([\n",
    "    transforms.Resize(224),\n",
    "    transforms.CenterCrop(224),\n",
    "    transforms.ToTensor(),\n",
    "    transforms.Normalize(mean=[0.485, 0.456, 0.406], std=[0.229, 0.224, 0.225])\n",
    "])"
   ]
  },
  {
   "cell_type": "code",
   "execution_count": 33,
   "id": "5b629b83",
   "metadata": {},
   "outputs": [],
   "source": [
    "# Класс для формирования батча\n",
    "\n",
    "class PrincessIdentificationDataset(torch.utils.data.IterableDataset):\n",
    "    def __init__(self, df, n_princess, n_other, preprocess):\n",
    "        self.df = df\n",
    "        self.n_princess = n_princess\n",
    "        self.n_other = n_other\n",
    "        self.preprocess = preprocess\n",
    "    \n",
    "    def __iter__(self):\n",
    "        princess = self.df[self.df.princess].reset_index(drop = True)\n",
    "        other = self.df[~self.df.princess].reset_index(drop = True)\n",
    "        \n",
    "        while True:\n",
    "            batch = pd.concat([princess.sample(self.n_princess), other.sample(self.n_other)])\n",
    "            images = torch.stack([self.preprocess(Image.open(p)) for p in batch.path.values], axis = 0)\n",
    "            \n",
    "            yield images"
   ]
  },
  {
   "cell_type": "code",
   "execution_count": 34,
   "id": "d98a27bc",
   "metadata": {},
   "outputs": [],
   "source": [
    "train_dataset = PrincessIdentificationDataset(train_df.reset_index(drop = True), n_princess=5, n_other=5, preprocess=train_preprocess)\n",
    "val_dataset = PrincessIdentificationDataset(test_df.reset_index(drop = True), n_princess=5, n_other=5, preprocess=test_preprocess)"
   ]
  },
  {
   "cell_type": "code",
   "execution_count": 35,
   "id": "91509fc7",
   "metadata": {},
   "outputs": [],
   "source": [
    "val_iterator = iter(val_dataset)"
   ]
  },
  {
   "cell_type": "code",
   "execution_count": 36,
   "id": "a0846ea6",
   "metadata": {},
   "outputs": [],
   "source": [
    "iterator = iter(train_dataset)"
   ]
  },
  {
   "cell_type": "code",
   "execution_count": 37,
   "id": "13090010",
   "metadata": {},
   "outputs": [],
   "source": [
    "# next(iterator)"
   ]
  },
  {
   "cell_type": "markdown",
   "id": "0a78c034",
   "metadata": {},
   "source": [
    "Формируем тензор с описанной в начале ноутбука ЦЕЛЕВОЙ матрицы."
   ]
  },
  {
   "cell_type": "code",
   "execution_count": 38,
   "id": "bbdbf653",
   "metadata": {},
   "outputs": [
    {
     "data": {
      "text/plain": [
       "tensor([[0., 1., 1., 1., 1., 0., 0., 0., 0., 0.],\n",
       "        [1., 0., 1., 1., 1., 0., 0., 0., 0., 0.],\n",
       "        [1., 1., 0., 1., 1., 0., 0., 0., 0., 0.],\n",
       "        [1., 1., 1., 0., 1., 0., 0., 0., 0., 0.],\n",
       "        [1., 1., 1., 1., 0., 0., 0., 0., 0., 0.],\n",
       "        [0., 0., 0., 0., 0., 0., 0., 0., 0., 0.],\n",
       "        [0., 0., 0., 0., 0., 0., 0., 0., 0., 0.],\n",
       "        [0., 0., 0., 0., 0., 0., 0., 0., 0., 0.],\n",
       "        [0., 0., 0., 0., 0., 0., 0., 0., 0., 0.],\n",
       "        [0., 0., 0., 0., 0., 0., 0., 0., 0., 0.]], device='cuda:0',\n",
       "       dtype=torch.float64)"
      ]
     },
     "execution_count": 38,
     "metadata": {},
     "output_type": "execute_result"
    }
   ],
   "source": [
    "gt_matrix = np.zeros((10, 10))\n",
    "\n",
    "for i in range(5):\n",
    "    for j in range(5):\n",
    "        if i == j: continue\n",
    "        gt_matrix[i,j] = 1\n",
    "        \n",
    "gt_matrix = torch.tensor(gt_matrix).cuda()\n",
    "gt_matrix"
   ]
  },
  {
   "cell_type": "markdown",
   "id": "d86d0711",
   "metadata": {},
   "source": [
    "Формируем тензор с описанной в начале ноутбука МАСКОЙ для подсчета градиентов."
   ]
  },
  {
   "cell_type": "code",
   "execution_count": 39,
   "id": "cbf0ff23",
   "metadata": {},
   "outputs": [
    {
     "data": {
      "text/plain": [
       "tensor([[0., 1., 1., 1., 1., 1., 1., 1., 1., 1.],\n",
       "        [1., 0., 1., 1., 1., 1., 1., 1., 1., 1.],\n",
       "        [1., 1., 0., 1., 1., 1., 1., 1., 1., 1.],\n",
       "        [1., 1., 1., 0., 1., 1., 1., 1., 1., 1.],\n",
       "        [1., 1., 1., 1., 0., 1., 1., 1., 1., 1.],\n",
       "        [1., 1., 1., 1., 1., 0., 0., 0., 0., 0.],\n",
       "        [1., 1., 1., 1., 1., 0., 0., 0., 0., 0.],\n",
       "        [1., 1., 1., 1., 1., 0., 0., 0., 0., 0.],\n",
       "        [1., 1., 1., 1., 1., 0., 0., 0., 0., 0.],\n",
       "        [1., 1., 1., 1., 1., 0., 0., 0., 0., 0.]], device='cuda:0',\n",
       "       dtype=torch.float64)"
      ]
     },
     "execution_count": 39,
     "metadata": {},
     "output_type": "execute_result"
    }
   ],
   "source": [
    "grad_matrix = np.zeros((10, 10))\n",
    "\n",
    "for i in range(10):\n",
    "    for j in range(10):\n",
    "        if i == j: continue\n",
    "        grad_matrix[i,j] = (i < 5) | (j < 5)\n",
    "        \n",
    "        \n",
    "grad_matrix = torch.tensor(grad_matrix).cuda()\n",
    "grad_matrix"
   ]
  },
  {
   "cell_type": "code",
   "execution_count": 40,
   "id": "e4f3db33",
   "metadata": {},
   "outputs": [],
   "source": [
    "# Оптимизатор\n",
    "\n",
    "optim = torch.optim.AdamW(model.parameters(), lr=1e-4)"
   ]
  },
  {
   "cell_type": "code",
   "execution_count": 41,
   "id": "a4537150",
   "metadata": {},
   "outputs": [],
   "source": [
    "# Функция обучения\n",
    "# В течении определенного количества эпох считаем функцию потерь по тренировочному датасету, считаем \n",
    "\n",
    "def train(n_epoches, train_dataset, val_dataset, train_steps, val_steps, optim, model):\n",
    "    print('Train start')\n",
    "    \n",
    "    def compute_loss(batch):\n",
    "        features = model(batch)\n",
    "        matrix = sim_matrix(features, features)*grad_matrix\n",
    "        return torch.sum(torch.square(matrix - gt_matrix)) / grad_matrix.sum()\n",
    "    \n",
    "    best_loss = 100\n",
    "    \n",
    "    train_losses = []\n",
    "    val_losses = []\n",
    "                \n",
    "    for epoch in range(n_epoches):\n",
    "        print('Epoch %s' % epoch)\n",
    "        \n",
    "        train_iterator = iter(train_dataset)\n",
    "        val_iterator = iter(val_dataset)\n",
    "        \n",
    "        train_loss = 0\n",
    "        \n",
    "        for step in tqdm(range(train_steps)):\n",
    "            optim.zero_grad()\n",
    "            \n",
    "            train_batch = next(train_iterator).cuda()\n",
    "            \n",
    "            loss = compute_loss(train_batch)\n",
    "            \n",
    "            train_loss += loss.detach().cpu().item()\n",
    "            \n",
    "            loss.backward()\n",
    "            \n",
    "            optim.step()\n",
    "            \n",
    "        train_loss /= train_steps\n",
    "        train_losses.append(train_loss)\n",
    "        \n",
    "        print('Train loss: %s' % train_loss)\n",
    "        \n",
    "        val_loss = 0\n",
    "        \n",
    "        with torch.no_grad():\n",
    "            for step in tqdm(range(val_steps)):\n",
    "                val_batch = next(val_iterator).cuda()\n",
    "            \n",
    "                loss = compute_loss(val_batch)\n",
    "            \n",
    "                val_loss += loss.detach().cpu().item()\n",
    "                \n",
    "        val_loss /= val_steps\n",
    "        val_losses.append(val_loss)\n",
    "                \n",
    "        if best_loss > val_loss:\n",
    "            best_model = model.state_dict()\n",
    "                \n",
    "        print('Val loss: %s' % val_loss)\n",
    "        \n",
    "    model.load_state_dict(best_model)\n",
    "    \n",
    "    print('Best val loss: %s' % best_loss)\n",
    "    \n",
    "    return train_losses, val_losses"
   ]
  },
  {
   "cell_type": "code",
   "execution_count": 42,
   "id": "0592541e",
   "metadata": {},
   "outputs": [
    {
     "name": "stdout",
     "output_type": "stream",
     "text": [
      "Train start\n",
      "Epoch 0\n"
     ]
    },
    {
     "name": "stderr",
     "output_type": "stream",
     "text": [
      "/tmp/ipykernel_44312/2123865211.py:25: TqdmDeprecationWarning: This function will be removed in tqdm==5.0.0\n",
      "Please use `tqdm.notebook.tqdm` instead of `tqdm.tqdm_notebook`\n",
      "  for step in tqdm(range(train_steps)):\n"
     ]
    },
    {
     "data": {
      "application/vnd.jupyter.widget-view+json": {
       "model_id": "9d19d0be777f4482844b3c272e458410",
       "version_major": 2,
       "version_minor": 0
      },
      "text/plain": [
       "  0%|          | 0/329 [00:00<?, ?it/s]"
      ]
     },
     "metadata": {},
     "output_type": "display_data"
    },
    {
     "name": "stdout",
     "output_type": "stream",
     "text": [
      "Train loss: 0.22174614132900392\n"
     ]
    },
    {
     "name": "stderr",
     "output_type": "stream",
     "text": [
      "/tmp/ipykernel_44312/2123865211.py:46: TqdmDeprecationWarning: This function will be removed in tqdm==5.0.0\n",
      "Please use `tqdm.notebook.tqdm` instead of `tqdm.tqdm_notebook`\n",
      "  for step in tqdm(range(val_steps)):\n"
     ]
    },
    {
     "data": {
      "application/vnd.jupyter.widget-view+json": {
       "model_id": "52c8de19aae246fd9da7f38edb76d43c",
       "version_major": 2,
       "version_minor": 0
      },
      "text/plain": [
       "  0%|          | 0/58 [00:00<?, ?it/s]"
      ]
     },
     "metadata": {},
     "output_type": "display_data"
    },
    {
     "name": "stdout",
     "output_type": "stream",
     "text": [
      "Val loss: 0.22049096890354383\n",
      "Epoch 1\n"
     ]
    },
    {
     "data": {
      "application/vnd.jupyter.widget-view+json": {
       "model_id": "519eb2e49a7649e1adc6ec7d4241796d",
       "version_major": 2,
       "version_minor": 0
      },
      "text/plain": [
       "  0%|          | 0/329 [00:00<?, ?it/s]"
      ]
     },
     "metadata": {},
     "output_type": "display_data"
    },
    {
     "name": "stdout",
     "output_type": "stream",
     "text": [
      "Train loss: 0.20868866776148062\n"
     ]
    },
    {
     "data": {
      "application/vnd.jupyter.widget-view+json": {
       "model_id": "caa1463a14e54b37bb3a6c3c6700cf57",
       "version_major": 2,
       "version_minor": 0
      },
      "text/plain": [
       "  0%|          | 0/58 [00:00<?, ?it/s]"
      ]
     },
     "metadata": {},
     "output_type": "display_data"
    },
    {
     "name": "stdout",
     "output_type": "stream",
     "text": [
      "Val loss: 0.19618768950863902\n",
      "Epoch 2\n"
     ]
    },
    {
     "data": {
      "application/vnd.jupyter.widget-view+json": {
       "model_id": "bf5eea5b321b4201bed16205ac168921",
       "version_major": 2,
       "version_minor": 0
      },
      "text/plain": [
       "  0%|          | 0/329 [00:00<?, ?it/s]"
      ]
     },
     "metadata": {},
     "output_type": "display_data"
    },
    {
     "name": "stdout",
     "output_type": "stream",
     "text": [
      "Train loss: 0.1797613350196909\n"
     ]
    },
    {
     "data": {
      "application/vnd.jupyter.widget-view+json": {
       "model_id": "d29a9396bb094bd498366fd80ff33385",
       "version_major": 2,
       "version_minor": 0
      },
      "text/plain": [
       "  0%|          | 0/58 [00:00<?, ?it/s]"
      ]
     },
     "metadata": {},
     "output_type": "display_data"
    },
    {
     "name": "stdout",
     "output_type": "stream",
     "text": [
      "Val loss: 0.173498770361967\n",
      "Epoch 3\n"
     ]
    },
    {
     "data": {
      "application/vnd.jupyter.widget-view+json": {
       "model_id": "fd7c6d64e0544dc09e5c3c6d0e2894fc",
       "version_major": 2,
       "version_minor": 0
      },
      "text/plain": [
       "  0%|          | 0/329 [00:00<?, ?it/s]"
      ]
     },
     "metadata": {},
     "output_type": "display_data"
    },
    {
     "name": "stdout",
     "output_type": "stream",
     "text": [
      "Train loss: 0.172849286045323\n"
     ]
    },
    {
     "data": {
      "application/vnd.jupyter.widget-view+json": {
       "model_id": "aaa1a44c95424313a925c6c2bb4be236",
       "version_major": 2,
       "version_minor": 0
      },
      "text/plain": [
       "  0%|          | 0/58 [00:00<?, ?it/s]"
      ]
     },
     "metadata": {},
     "output_type": "display_data"
    },
    {
     "name": "stdout",
     "output_type": "stream",
     "text": [
      "Val loss: 0.3034010824799197\n",
      "Epoch 4\n"
     ]
    },
    {
     "data": {
      "application/vnd.jupyter.widget-view+json": {
       "model_id": "be645240481349a7806a7c4db3cc5b01",
       "version_major": 2,
       "version_minor": 0
      },
      "text/plain": [
       "  0%|          | 0/329 [00:00<?, ?it/s]"
      ]
     },
     "metadata": {},
     "output_type": "display_data"
    },
    {
     "name": "stdout",
     "output_type": "stream",
     "text": [
      "Train loss: 0.16407745922657935\n"
     ]
    },
    {
     "data": {
      "application/vnd.jupyter.widget-view+json": {
       "model_id": "d96888883d0a4ff5ba9a6ccbfdab75d1",
       "version_major": 2,
       "version_minor": 0
      },
      "text/plain": [
       "  0%|          | 0/58 [00:00<?, ?it/s]"
      ]
     },
     "metadata": {},
     "output_type": "display_data"
    },
    {
     "name": "stdout",
     "output_type": "stream",
     "text": [
      "Val loss: 0.1456555743799705\n",
      "Epoch 5\n"
     ]
    },
    {
     "data": {
      "application/vnd.jupyter.widget-view+json": {
       "model_id": "2b303a8a6b4c41649f0a9913cf0cccca",
       "version_major": 2,
       "version_minor": 0
      },
      "text/plain": [
       "  0%|          | 0/329 [00:00<?, ?it/s]"
      ]
     },
     "metadata": {},
     "output_type": "display_data"
    },
    {
     "name": "stdout",
     "output_type": "stream",
     "text": [
      "Train loss: 0.1482528086341993\n"
     ]
    },
    {
     "data": {
      "application/vnd.jupyter.widget-view+json": {
       "model_id": "10f045daae71425eb06adacc3812dbcc",
       "version_major": 2,
       "version_minor": 0
      },
      "text/plain": [
       "  0%|          | 0/58 [00:00<?, ?it/s]"
      ]
     },
     "metadata": {},
     "output_type": "display_data"
    },
    {
     "name": "stdout",
     "output_type": "stream",
     "text": [
      "Val loss: 0.18024296974684384\n",
      "Epoch 6\n"
     ]
    },
    {
     "data": {
      "application/vnd.jupyter.widget-view+json": {
       "model_id": "7099c28b7dbd4eb1bd04e4c261356fb9",
       "version_major": 2,
       "version_minor": 0
      },
      "text/plain": [
       "  0%|          | 0/329 [00:00<?, ?it/s]"
      ]
     },
     "metadata": {},
     "output_type": "display_data"
    },
    {
     "name": "stdout",
     "output_type": "stream",
     "text": [
      "Train loss: 0.1535508417529533\n"
     ]
    },
    {
     "data": {
      "application/vnd.jupyter.widget-view+json": {
       "model_id": "73ab961223ca4db8882871780a44708b",
       "version_major": 2,
       "version_minor": 0
      },
      "text/plain": [
       "  0%|          | 0/58 [00:00<?, ?it/s]"
      ]
     },
     "metadata": {},
     "output_type": "display_data"
    },
    {
     "name": "stdout",
     "output_type": "stream",
     "text": [
      "Val loss: 0.19495652044875966\n",
      "Epoch 7\n"
     ]
    },
    {
     "data": {
      "application/vnd.jupyter.widget-view+json": {
       "model_id": "1e7acd7dd60749e3b65bfd54ed9fc7f4",
       "version_major": 2,
       "version_minor": 0
      },
      "text/plain": [
       "  0%|          | 0/329 [00:00<?, ?it/s]"
      ]
     },
     "metadata": {},
     "output_type": "display_data"
    },
    {
     "name": "stdout",
     "output_type": "stream",
     "text": [
      "Train loss: 0.14919931032079048\n"
     ]
    },
    {
     "data": {
      "application/vnd.jupyter.widget-view+json": {
       "model_id": "fe044130044046a7a75b45fef84ae5e3",
       "version_major": 2,
       "version_minor": 0
      },
      "text/plain": [
       "  0%|          | 0/58 [00:00<?, ?it/s]"
      ]
     },
     "metadata": {},
     "output_type": "display_data"
    },
    {
     "name": "stdout",
     "output_type": "stream",
     "text": [
      "Val loss: 0.13344764277885388\n",
      "Epoch 8\n"
     ]
    },
    {
     "data": {
      "application/vnd.jupyter.widget-view+json": {
       "model_id": "36fc548f19a644fbad525e4277d75b02",
       "version_major": 2,
       "version_minor": 0
      },
      "text/plain": [
       "  0%|          | 0/329 [00:00<?, ?it/s]"
      ]
     },
     "metadata": {},
     "output_type": "display_data"
    },
    {
     "name": "stdout",
     "output_type": "stream",
     "text": [
      "Train loss: 0.14349576681861229\n"
     ]
    },
    {
     "data": {
      "application/vnd.jupyter.widget-view+json": {
       "model_id": "133f16bc3ca34031aabaf7a9660900ee",
       "version_major": 2,
       "version_minor": 0
      },
      "text/plain": [
       "  0%|          | 0/58 [00:00<?, ?it/s]"
      ]
     },
     "metadata": {},
     "output_type": "display_data"
    },
    {
     "name": "stdout",
     "output_type": "stream",
     "text": [
      "Val loss: 0.12555398571817963\n",
      "Epoch 9\n"
     ]
    },
    {
     "data": {
      "application/vnd.jupyter.widget-view+json": {
       "model_id": "0e18c955d0d84ba4a49aafb4a56ddae7",
       "version_major": 2,
       "version_minor": 0
      },
      "text/plain": [
       "  0%|          | 0/329 [00:00<?, ?it/s]"
      ]
     },
     "metadata": {},
     "output_type": "display_data"
    },
    {
     "name": "stdout",
     "output_type": "stream",
     "text": [
      "Train loss: 0.13263928039970316\n"
     ]
    },
    {
     "data": {
      "application/vnd.jupyter.widget-view+json": {
       "model_id": "bf4e10b83bc2403da4df237368599bcc",
       "version_major": 2,
       "version_minor": 0
      },
      "text/plain": [
       "  0%|          | 0/58 [00:00<?, ?it/s]"
      ]
     },
     "metadata": {},
     "output_type": "display_data"
    },
    {
     "name": "stdout",
     "output_type": "stream",
     "text": [
      "Val loss: 0.14574054495609623\n",
      "Epoch 10\n"
     ]
    },
    {
     "data": {
      "application/vnd.jupyter.widget-view+json": {
       "model_id": "a8ee5fbdbead42d38e41678b77edc7be",
       "version_major": 2,
       "version_minor": 0
      },
      "text/plain": [
       "  0%|          | 0/329 [00:00<?, ?it/s]"
      ]
     },
     "metadata": {},
     "output_type": "display_data"
    },
    {
     "name": "stdout",
     "output_type": "stream",
     "text": [
      "Train loss: 0.12578223382595166\n"
     ]
    },
    {
     "data": {
      "application/vnd.jupyter.widget-view+json": {
       "model_id": "80e0523da2314e20848cb26916c21c02",
       "version_major": 2,
       "version_minor": 0
      },
      "text/plain": [
       "  0%|          | 0/58 [00:00<?, ?it/s]"
      ]
     },
     "metadata": {},
     "output_type": "display_data"
    },
    {
     "name": "stdout",
     "output_type": "stream",
     "text": [
      "Val loss: 0.18055767362735195\n",
      "Epoch 11\n"
     ]
    },
    {
     "data": {
      "application/vnd.jupyter.widget-view+json": {
       "model_id": "106f8de676ee4dddb67c958742ced7ef",
       "version_major": 2,
       "version_minor": 0
      },
      "text/plain": [
       "  0%|          | 0/329 [00:00<?, ?it/s]"
      ]
     },
     "metadata": {},
     "output_type": "display_data"
    },
    {
     "name": "stdout",
     "output_type": "stream",
     "text": [
      "Train loss: 0.12913388763726052\n"
     ]
    },
    {
     "data": {
      "application/vnd.jupyter.widget-view+json": {
       "model_id": "27953acc9daf4fc69dd08ddb79b5f6e0",
       "version_major": 2,
       "version_minor": 0
      },
      "text/plain": [
       "  0%|          | 0/58 [00:00<?, ?it/s]"
      ]
     },
     "metadata": {},
     "output_type": "display_data"
    },
    {
     "name": "stdout",
     "output_type": "stream",
     "text": [
      "Val loss: 0.11325597846438873\n",
      "Epoch 12\n"
     ]
    },
    {
     "data": {
      "application/vnd.jupyter.widget-view+json": {
       "model_id": "2fd9721380a24f9f958eab1aa8d96072",
       "version_major": 2,
       "version_minor": 0
      },
      "text/plain": [
       "  0%|          | 0/329 [00:00<?, ?it/s]"
      ]
     },
     "metadata": {},
     "output_type": "display_data"
    },
    {
     "name": "stdout",
     "output_type": "stream",
     "text": [
      "Train loss: 0.12488769075354832\n"
     ]
    },
    {
     "data": {
      "application/vnd.jupyter.widget-view+json": {
       "model_id": "0907b96e462a4d8ba1e75f989992f3dc",
       "version_major": 2,
       "version_minor": 0
      },
      "text/plain": [
       "  0%|          | 0/58 [00:00<?, ?it/s]"
      ]
     },
     "metadata": {},
     "output_type": "display_data"
    },
    {
     "name": "stdout",
     "output_type": "stream",
     "text": [
      "Val loss: 0.1424194877936073\n",
      "Epoch 13\n"
     ]
    },
    {
     "data": {
      "application/vnd.jupyter.widget-view+json": {
       "model_id": "3e3d4ad4b3f246e9ac1e76ffd61b5ff3",
       "version_major": 2,
       "version_minor": 0
      },
      "text/plain": [
       "  0%|          | 0/329 [00:00<?, ?it/s]"
      ]
     },
     "metadata": {},
     "output_type": "display_data"
    },
    {
     "name": "stdout",
     "output_type": "stream",
     "text": [
      "Train loss: 0.11338717155207127\n"
     ]
    },
    {
     "data": {
      "application/vnd.jupyter.widget-view+json": {
       "model_id": "63f5e9169e7e40a1ab1eb04c2b5a7a79",
       "version_major": 2,
       "version_minor": 0
      },
      "text/plain": [
       "  0%|          | 0/58 [00:00<?, ?it/s]"
      ]
     },
     "metadata": {},
     "output_type": "display_data"
    },
    {
     "name": "stdout",
     "output_type": "stream",
     "text": [
      "Val loss: 0.12286860107583474\n",
      "Epoch 14\n"
     ]
    },
    {
     "data": {
      "application/vnd.jupyter.widget-view+json": {
       "model_id": "897fbdb70f604da7b20d7f574a263148",
       "version_major": 2,
       "version_minor": 0
      },
      "text/plain": [
       "  0%|          | 0/329 [00:00<?, ?it/s]"
      ]
     },
     "metadata": {},
     "output_type": "display_data"
    },
    {
     "name": "stdout",
     "output_type": "stream",
     "text": [
      "Train loss: 0.11487993113777326\n"
     ]
    },
    {
     "data": {
      "application/vnd.jupyter.widget-view+json": {
       "model_id": "60c8410c0ff34e83ad818ad3825ab9ef",
       "version_major": 2,
       "version_minor": 0
      },
      "text/plain": [
       "  0%|          | 0/58 [00:00<?, ?it/s]"
      ]
     },
     "metadata": {},
     "output_type": "display_data"
    },
    {
     "name": "stdout",
     "output_type": "stream",
     "text": [
      "Val loss: 0.13917416353243944\n",
      "Epoch 15\n"
     ]
    },
    {
     "data": {
      "application/vnd.jupyter.widget-view+json": {
       "model_id": "e3cb4f64368c4627b8bdc52e10e322c9",
       "version_major": 2,
       "version_minor": 0
      },
      "text/plain": [
       "  0%|          | 0/329 [00:00<?, ?it/s]"
      ]
     },
     "metadata": {},
     "output_type": "display_data"
    },
    {
     "name": "stdout",
     "output_type": "stream",
     "text": [
      "Train loss: 0.10946843072626802\n"
     ]
    },
    {
     "data": {
      "application/vnd.jupyter.widget-view+json": {
       "model_id": "3216b9aa0aae4076bd67cc64c168f5b3",
       "version_major": 2,
       "version_minor": 0
      },
      "text/plain": [
       "  0%|          | 0/58 [00:00<?, ?it/s]"
      ]
     },
     "metadata": {},
     "output_type": "display_data"
    },
    {
     "name": "stdout",
     "output_type": "stream",
     "text": [
      "Val loss: 0.13496005459613403\n",
      "Epoch 16\n"
     ]
    },
    {
     "data": {
      "application/vnd.jupyter.widget-view+json": {
       "model_id": "257e1a8012854168a79cbc3d097c84ff",
       "version_major": 2,
       "version_minor": 0
      },
      "text/plain": [
       "  0%|          | 0/329 [00:00<?, ?it/s]"
      ]
     },
     "metadata": {},
     "output_type": "display_data"
    },
    {
     "name": "stdout",
     "output_type": "stream",
     "text": [
      "Train loss: 0.10042114958285114\n"
     ]
    },
    {
     "data": {
      "application/vnd.jupyter.widget-view+json": {
       "model_id": "600518f2f031483c8bfc3446c6ff407c",
       "version_major": 2,
       "version_minor": 0
      },
      "text/plain": [
       "  0%|          | 0/58 [00:00<?, ?it/s]"
      ]
     },
     "metadata": {},
     "output_type": "display_data"
    },
    {
     "name": "stdout",
     "output_type": "stream",
     "text": [
      "Val loss: 0.1807232681148684\n",
      "Epoch 17\n"
     ]
    },
    {
     "data": {
      "application/vnd.jupyter.widget-view+json": {
       "model_id": "18473840f75c4a76bf04ba23c637a986",
       "version_major": 2,
       "version_minor": 0
      },
      "text/plain": [
       "  0%|          | 0/329 [00:00<?, ?it/s]"
      ]
     },
     "metadata": {},
     "output_type": "display_data"
    },
    {
     "name": "stdout",
     "output_type": "stream",
     "text": [
      "Train loss: 0.10276885886734091\n"
     ]
    },
    {
     "data": {
      "application/vnd.jupyter.widget-view+json": {
       "model_id": "1c61cdbf0e154c1fb6f5c6cecc166251",
       "version_major": 2,
       "version_minor": 0
      },
      "text/plain": [
       "  0%|          | 0/58 [00:00<?, ?it/s]"
      ]
     },
     "metadata": {},
     "output_type": "display_data"
    },
    {
     "name": "stdout",
     "output_type": "stream",
     "text": [
      "Val loss: 0.11462990104008096\n",
      "Epoch 18\n"
     ]
    },
    {
     "data": {
      "application/vnd.jupyter.widget-view+json": {
       "model_id": "235897ac01ce449d93a40e2d55c56ffa",
       "version_major": 2,
       "version_minor": 0
      },
      "text/plain": [
       "  0%|          | 0/329 [00:00<?, ?it/s]"
      ]
     },
     "metadata": {},
     "output_type": "display_data"
    },
    {
     "name": "stdout",
     "output_type": "stream",
     "text": [
      "Train loss: 0.10741452176403711\n"
     ]
    },
    {
     "data": {
      "application/vnd.jupyter.widget-view+json": {
       "model_id": "da53c5668baa452b9220fdd343c2d2eb",
       "version_major": 2,
       "version_minor": 0
      },
      "text/plain": [
       "  0%|          | 0/58 [00:00<?, ?it/s]"
      ]
     },
     "metadata": {},
     "output_type": "display_data"
    },
    {
     "name": "stdout",
     "output_type": "stream",
     "text": [
      "Val loss: 0.10317964129978519\n",
      "Epoch 19\n"
     ]
    },
    {
     "data": {
      "application/vnd.jupyter.widget-view+json": {
       "model_id": "ba76cbb0b1a44363a4e5005c2c7a5a90",
       "version_major": 2,
       "version_minor": 0
      },
      "text/plain": [
       "  0%|          | 0/329 [00:00<?, ?it/s]"
      ]
     },
     "metadata": {},
     "output_type": "display_data"
    },
    {
     "name": "stdout",
     "output_type": "stream",
     "text": [
      "Train loss: 0.09581232857132567\n"
     ]
    },
    {
     "data": {
      "application/vnd.jupyter.widget-view+json": {
       "model_id": "21c4fdb15a054710822e394d49a22d52",
       "version_major": 2,
       "version_minor": 0
      },
      "text/plain": [
       "  0%|          | 0/58 [00:00<?, ?it/s]"
      ]
     },
     "metadata": {},
     "output_type": "display_data"
    },
    {
     "name": "stdout",
     "output_type": "stream",
     "text": [
      "Val loss: 0.06642758401685278\n",
      "Best val loss: 100\n"
     ]
    }
   ],
   "source": [
    "train_losses, val_losses = train(20, train_dataset, val_dataset, len(train_df) // 10, len(test_df)//10, optim, model)"
   ]
  },
  {
   "cell_type": "code",
   "execution_count": 43,
   "id": "53202317",
   "metadata": {},
   "outputs": [],
   "source": [
    "torch.save(model.state_dict(), '3.pt')"
   ]
  },
  {
   "cell_type": "code",
   "execution_count": 44,
   "id": "cc63691c",
   "metadata": {},
   "outputs": [
    {
     "data": {
      "text/plain": [
       "<matplotlib.legend.Legend at 0x7fee0011c7f0>"
      ]
     },
     "execution_count": 44,
     "metadata": {},
     "output_type": "execute_result"
    },
    {
     "data": {
      "image/png": "[encoded data removed]",
      "text/plain": [
       "<Figure size 432x288 with 1 Axes>"
      ]
     },
     "metadata": {
      "needs_background": "light"
     },
     "output_type": "display_data"
    }
   ],
   "source": [
    "# Рисуем графики лосса\n",
    "\n",
    "plt.plot(train_losses)\n",
    "plt.plot(val_losses)\n",
    "plt.legend(['train', 'val'])"
   ]
  },
  {
   "cell_type": "markdown",
   "id": "15f468a3",
   "metadata": {},
   "source": [
    "### Демо матрицы схожести"
   ]
  },
  {
   "cell_type": "code",
   "execution_count": 45,
   "id": "0fd0031a",
   "metadata": {},
   "outputs": [],
   "source": [
    "batch = next(val_iterator)"
   ]
  },
  {
   "cell_type": "code",
   "execution_count": 46,
   "id": "6241cc65",
   "metadata": {},
   "outputs": [],
   "source": [
    "features = model(batch.cuda())"
   ]
  },
  {
   "cell_type": "code",
   "execution_count": 47,
   "id": "cfc9d45d",
   "metadata": {},
   "outputs": [
    {
     "data": {
      "text/plain": [
       "tensor([[  5.2240, -13.8796, -30.2200,  ...,  -9.4917, -15.2828,  29.8513],\n",
       "        [  3.3925, -36.4286, -57.5035,  ...,  -9.1192, -47.1152,  77.6464],\n",
       "        [ -2.1258, -17.8593, -26.0393,  ..., -15.0359, -26.1332,  39.1468],\n",
       "        ...,\n",
       "        [-13.0194,  -4.0068,  -4.3584,  ...,  -9.4941,   5.1701,  24.8410],\n",
       "        [-13.0507,  -6.1451,  -1.6279,  ...,  -4.4486,  -4.0274,  31.8529],\n",
       "        [ -7.0783,  -3.7504,  11.6259,  ...,  -1.6647,  -2.2972,   0.9199]],\n",
       "       device='cuda:0', grad_fn=<AddmmBackward0>)"
      ]
     },
     "execution_count": 47,
     "metadata": {},
     "output_type": "execute_result"
    }
   ],
   "source": [
    "features"
   ]
  },
  {
   "cell_type": "code",
   "execution_count": 48,
   "id": "c7aed9dd",
   "metadata": {},
   "outputs": [],
   "source": [
    "matrix = sim_matrix(features, features)"
   ]
  },
  {
   "cell_type": "code",
   "execution_count": 49,
   "id": "33890038",
   "metadata": {},
   "outputs": [
    {
     "data": {
      "text/plain": [
       "<matplotlib.image.AxesImage at 0x7fee0006a2b0>"
      ]
     },
     "execution_count": 49,
     "metadata": {},
     "output_type": "execute_result"
    },
    {
     "data": {
      "image/png": "[encoded data removed]",
      "text/plain": [
       "<Figure size 288x288 with 1 Axes>"
      ]
     },
     "metadata": {
      "needs_background": "light"
     },
     "output_type": "display_data"
    }
   ],
   "source": [
    "plt.matshow(matrix.detach().cpu().numpy())"
   ]
  },
  {
   "cell_type": "code",
   "execution_count": 50,
   "id": "fa71448d",
   "metadata": {},
   "outputs": [
    {
     "data": {
      "image/png": "[encoded data removed]",
      "text/plain": [
       "<PIL.Image.Image image mode=RGB size=224x224 at 0x7FEE0004B820>"
      ]
     },
     "execution_count": 50,
     "metadata": {},
     "output_type": "execute_result"
    }
   ],
   "source": [
    "transforms.ToPILImage()(batch[5])"
   ]
  },
  {
   "cell_type": "markdown",
   "id": "d4bf226b",
   "metadata": {},
   "source": [
    "### Считаем фичи принцессы"
   ]
  },
  {
   "cell_type": "code",
   "execution_count": 52,
   "id": "e15809c7",
   "metadata": {},
   "outputs": [
    {
     "name": "stderr",
     "output_type": "stream",
     "text": [
      "/tmp/ipykernel_44312/542031797.py:4: TqdmDeprecationWarning: This function will be removed in tqdm==5.0.0\n",
      "Please use `tqdm.notebook.tqdm` instead of `tqdm.tqdm_notebook`\n",
      "  for _, row in tqdm(train_df[train_df.princess].iterrows()):\n"
     ]
    },
    {
     "data": {
      "application/vnd.jupyter.widget-view+json": {
       "model_id": "108466580c32403dbed2d1dcac84cf93",
       "version_major": 2,
       "version_minor": 0
      },
      "text/plain": [
       "0it [00:00, ?it/s]"
      ]
     },
     "metadata": {},
     "output_type": "display_data"
    }
   ],
   "source": [
    "princess_features = []\n",
    "\n",
    "with torch.no_grad():\n",
    "    for _, row in tqdm(train_df[train_df.princess].iterrows()):\n",
    "        img = Image.open(row.path)\n",
    "        img = test_preprocess(img).unsqueeze(dim = 0).cuda()\n",
    "        feature = model(img)[0].cpu().numpy()\n",
    "        princess_features.append(feature)"
   ]
  },
  {
   "cell_type": "code",
   "execution_count": 53,
   "id": "81a90da1",
   "metadata": {},
   "outputs": [],
   "source": [
    "import pickle"
   ]
  },
  {
   "cell_type": "code",
   "execution_count": 54,
   "id": "83302486",
   "metadata": {},
   "outputs": [],
   "source": [
    "with open('princess_features_0.pkl', 'wb') as f:\n",
    "    pickle.dump(princess_features, f)"
   ]
  },
  {
   "cell_type": "code",
   "execution_count": 55,
   "id": "c9a76a01",
   "metadata": {},
   "outputs": [
    {
     "name": "stderr",
     "output_type": "stream",
     "text": [
      "/tmp/ipykernel_44312/2596468552.py:1: UserWarning: Creating a tensor from a list of numpy.ndarrays is extremely slow. Please consider converting the list to a single numpy.ndarray with numpy.array() before converting to a tensor. (Triggered internally at  /opt/conda/conda-bld/pytorch_1634272204863/work/torch/csrc/utils/tensor_new.cpp:201.)\n",
      "  princess_features_sim_matrix = sim_matrix(torch.tensor(princess_features),torch.tensor(princess_features))\n"
     ]
    }
   ],
   "source": [
    "princess_features_sim_matrix = sim_matrix(torch.tensor(princess_features),torch.tensor(princess_features))"
   ]
  },
  {
   "cell_type": "code",
   "execution_count": 56,
   "id": "56fb75a5",
   "metadata": {},
   "outputs": [
    {
     "data": {
      "text/plain": [
       "<matplotlib.image.AxesImage at 0x7fedd4741550>"
      ]
     },
     "execution_count": 56,
     "metadata": {},
     "output_type": "execute_result"
    },
    {
     "data": {
      "image/png": "[encoded data removed]",
      "text/plain": [
       "<Figure size 288x288 with 1 Axes>"
      ]
     },
     "metadata": {
      "needs_background": "light"
     },
     "output_type": "display_data"
    }
   ],
   "source": [
    "plt.matshow(princess_features_sim_matrix.numpy())"
   ]
  },
  {
   "cell_type": "code",
   "execution_count": 57,
   "id": "b94f7841",
   "metadata": {},
   "outputs": [
    {
     "data": {
      "text/plain": [
       "tensor(0.8904)"
      ]
     },
     "execution_count": 57,
     "metadata": {},
     "output_type": "execute_result"
    }
   ],
   "source": [
    "princess_features_sim_matrix.mean(axis = 0).mean()"
   ]
  },
  {
   "cell_type": "markdown",
   "id": "fec14a71",
   "metadata": {},
   "source": [
    "Как видим, большинство фичей принцессы очень близки друг к другу. В среднем среднее расстояние до фича вектора принцессы равно 0.8645"
   ]
  },
  {
   "cell_type": "markdown",
   "id": "56ddcc90",
   "metadata": {},
   "source": [
    "# Валидация и поиск порога"
   ]
  },
  {
   "cell_type": "code",
   "execution_count": 58,
   "id": "c95344d8",
   "metadata": {},
   "outputs": [
    {
     "name": "stderr",
     "output_type": "stream",
     "text": [
      "/tmp/ipykernel_44312/2020401355.py:5: TqdmDeprecationWarning: This function will be removed in tqdm==5.0.0\n",
      "Please use `tqdm.notebook.tqdm` instead of `tqdm.tqdm_notebook`\n",
      "  for _, row in tqdm(test_df.iterrows()):\n"
     ]
    },
    {
     "data": {
      "application/vnd.jupyter.widget-view+json": {
       "model_id": "92362c704eee41bebfa620a164e73f2e",
       "version_major": 2,
       "version_minor": 0
      },
      "text/plain": [
       "0it [00:00, ?it/s]"
      ]
     },
     "metadata": {},
     "output_type": "display_data"
    }
   ],
   "source": [
    "val_features = []\n",
    "val_classes = []\n",
    "\n",
    "with torch.no_grad():\n",
    "    for _, row in tqdm(test_df.iterrows()):\n",
    "        img = Image.open(row.path)\n",
    "        img = test_preprocess(img).unsqueeze(dim = 0).cuda()\n",
    "        feature = model(img)[0].cpu().numpy()\n",
    "        val_features.append(feature)\n",
    "        val_classes.append(int(row.princess))\n",
    "        \n",
    "val_classes = np.array(val_classes)"
   ]
  },
  {
   "cell_type": "code",
   "execution_count": 59,
   "id": "9e4462b4",
   "metadata": {},
   "outputs": [],
   "source": [
    "val_sim_matrix = sim_matrix(torch.tensor(princess_features), torch.tensor(val_features)).cpu()"
   ]
  },
  {
   "cell_type": "code",
   "execution_count": 60,
   "id": "37fa4c9e",
   "metadata": {},
   "outputs": [],
   "source": [
    "scores = val_sim_matrix.mean(axis = 0).numpy()"
   ]
  },
  {
   "cell_type": "code",
   "execution_count": 61,
   "id": "ee5cd16c",
   "metadata": {},
   "outputs": [],
   "source": [
    "from sklearn.metrics import RocCurveDisplay, PrecisionRecallDisplay"
   ]
  },
  {
   "cell_type": "code",
   "execution_count": 62,
   "id": "e2283bb6",
   "metadata": {},
   "outputs": [
    {
     "data": {
      "text/plain": [
       "<sklearn.metrics._plot.roc_curve.RocCurveDisplay at 0x7fee0006a8e0>"
      ]
     },
     "execution_count": 62,
     "metadata": {},
     "output_type": "execute_result"
    },
    {
     "data": {
      "image/png": "[encoded data removed]",
      "text/plain": [
       "<Figure size 432x288 with 1 Axes>"
      ]
     },
     "metadata": {
      "needs_background": "light"
     },
     "output_type": "display_data"
    }
   ],
   "source": [
    "RocCurveDisplay.from_predictions(val_classes, scores)"
   ]
  },
  {
   "cell_type": "code",
   "execution_count": 63,
   "id": "b8b5d467",
   "metadata": {},
   "outputs": [
    {
     "name": "stderr",
     "output_type": "stream",
     "text": [
      "/tmp/ipykernel_44312/20057364.py:6: TqdmDeprecationWarning: This function will be removed in tqdm==5.0.0\n",
      "Please use `tqdm.notebook.tqdm` instead of `tqdm.tqdm_notebook`\n",
      "  for t in tqdm(thresholds):\n"
     ]
    },
    {
     "data": {
      "application/vnd.jupyter.widget-view+json": {
       "model_id": "d91b0c8806c24e7982d040705075f41f",
       "version_major": 2,
       "version_minor": 0
      },
      "text/plain": [
       "  0%|          | 0/582 [00:00<?, ?it/s]"
      ]
     },
     "metadata": {},
     "output_type": "display_data"
    }
   ],
   "source": [
    "thr = []\n",
    "\n",
    "thresholds = scores.copy()\n",
    "thresholds.sort()\n",
    "\n",
    "for t in tqdm(thresholds):\n",
    "    t_princess = scores >= t\n",
    "    trues = (t_princess == val_classes)\n",
    "    falses = (t_princess != val_classes)\n",
    "    thr.append(trues[val_classes == 1].sum()*2 - falses.sum())\n",
    "    "
   ]
  },
  {
   "cell_type": "markdown",
   "id": "7c7f8da0",
   "metadata": {},
   "source": [
    "Максимальный скор и порог"
   ]
  },
  {
   "cell_type": "code",
   "execution_count": 69,
   "id": "4450289e",
   "metadata": {},
   "outputs": [
    {
     "data": {
      "text/plain": [
       "(66, 0.67029667)"
      ]
     },
     "execution_count": 69,
     "metadata": {},
     "output_type": "execute_result"
    }
   ],
   "source": [
    "max(thr), thresholds[np.argmax(thr)]"
   ]
  },
  {
   "cell_type": "markdown",
   "id": "f5f9fcfa",
   "metadata": {},
   "source": [
    "Зависимость скора от порога"
   ]
  },
  {
   "cell_type": "code",
   "execution_count": 70,
   "id": "67ac69e4",
   "metadata": {},
   "outputs": [
    {
     "data": {
      "text/plain": [
       "[<matplotlib.lines.Line2D at 0x7fed606dde20>]"
      ]
     },
     "execution_count": 70,
     "metadata": {},
     "output_type": "execute_result"
    },
    {
     "data": {
      "image/png": "[encoded data removed]",
      "text/plain": [
       "<Figure size 432x288 with 1 Axes>"
      ]
     },
     "metadata": {
      "needs_background": "light"
     },
     "output_type": "display_data"
    }
   ],
   "source": [
    "plt.plot(thresholds, thr)"
   ]
  }
 ],
 "metadata": {
  "kernelspec": {
   "display_name": "Python 3 (ipykernel)",
   "language": "python",
   "name": "python3"
  },
  "language_info": {
   "codemirror_mode": {
    "name": "ipython",
    "version": 3
   },
   "file_extension": ".py",
   "mimetype": "text/x-python",
   "name": "python",
   "nbconvert_exporter": "python",
   "pygments_lexer": "ipython3",
   "version": "3.9.7"
  }
 },
 "nbformat": 4,
 "nbformat_minor": 5
}
